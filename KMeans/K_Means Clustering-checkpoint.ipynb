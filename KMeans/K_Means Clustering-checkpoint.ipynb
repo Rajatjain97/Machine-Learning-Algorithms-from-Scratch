{
 "cells": [
  {
   "cell_type": "markdown",
   "metadata": {},
   "source": [
    "# Import Relevant Libraries"
   ]
  },
  {
   "cell_type": "code",
   "execution_count": 4,
   "metadata": {},
   "outputs": [],
   "source": [
    "import numpy as np\n",
    "import matplotlib.pyplot as plt\n",
    "from sklearn.datasets import make_blobs"
   ]
  },
  {
   "cell_type": "markdown",
   "metadata": {},
   "source": [
    "## Generate Dataset "
   ]
  },
  {
   "cell_type": "code",
   "execution_count": 5,
   "metadata": {},
   "outputs": [],
   "source": [
    "X,Y = make_blobs(n_samples=500,n_features=2,centers=5,random_state=3)"
   ]
  },
  {
   "cell_type": "code",
   "execution_count": 9,
   "metadata": {},
   "outputs": [
    {
     "name": "stdout",
     "output_type": "stream",
     "text": [
      "[[-6.94238952 -6.8807223 ]\n",
      " [ 8.14492336  7.52724561]\n",
      " [-3.61995355 -0.07726913]\n",
      " [-8.91918262 -6.772189  ]\n",
      " [-7.37151112 -5.0506429 ]]\n",
      "(500, 2)\n"
     ]
    }
   ],
   "source": [
    "print(X[:5])\n",
    "print(X.shape)"
   ]
  },
  {
   "cell_type": "code",
   "execution_count": 35,
   "metadata": {},
   "outputs": [
    {
     "data": {
      "image/png": "[encoded data removed]",
      "text/plain": [
       "<Figure size 432x288 with 1 Axes>"
      ]
     },
     "metadata": {
      "needs_background": "light"
     },
     "output_type": "display_data"
    }
   ],
   "source": [
    "plt.figure(0) # A new figure is created\n",
    "plt.grid(True)\n",
    "plt.scatter(X[:,0],X[:,1])\n",
    "plt.show()"
   ]
  },
  {
   "cell_type": "markdown",
   "metadata": {},
   "source": [
    "# Step 1: Initialize centers randomly"
   ]
  },
  {
   "cell_type": "code",
   "execution_count": 131,
   "metadata": {},
   "outputs": [],
   "source": [
    "# this block will generate 5 random centers and hold their properties such as color, center and,nearest point\n",
    "\n",
    "k = 5\n",
    "color = ['red','green','yellow','orange','pink']\n",
    "clusters = {}\n",
    "\n",
    "def initializeCenters():\n",
    "    for i in range(k):\n",
    "        center = 10*(2*np.random.random((X.shape[1],))-1) # it is generating two points in range -10 to 10\n",
    "        points = []\n",
    "\n",
    "        cluster = {\n",
    "            'center':center,\n",
    "\n",
    "            'points':points,\n",
    "            'color':color[i]\n",
    "        }\n",
    "\n",
    "        clusters[i] = cluster"
   ]
  },
  {
   "cell_type": "code",
   "execution_count": 122,
   "metadata": {},
   "outputs": [
    {
     "data": {
      "text/plain": [
       "{0: {'center': array([-2.38422315, -8.78139753]),\n",
       "  'points': [],\n",
       "  'color': 'red'},\n",
       " 1: {'center': array([-8.36416585, -2.34794247]),\n",
       "  'points': [],\n",
       "  'color': 'green'},\n",
       " 2: {'center': array([ 4.6276775 , -3.87313112]),\n",
       "  'points': [],\n",
       "  'color': 'yellow'},\n",
       " 3: {'center': array([-8.26396652,  3.12605108]),\n",
       "  'points': [],\n",
       "  'color': 'orange'},\n",
       " 4: {'center': array([-9.90660771,  7.65662961]),\n",
       "  'points': [],\n",
       "  'color': 'pink'}}"
      ]
     },
     "execution_count": 122,
     "metadata": {},
     "output_type": "execute_result"
    }
   ],
   "source": [
    "clusters"
   ]
  },
  {
   "cell_type": "code",
   "execution_count": 123,
   "metadata": {},
   "outputs": [],
   "source": [
    "def distance(v1,v2):\n",
    "    return np.sqrt(np.sum((v1-v2)**2))"
   ]
  },
  {
   "cell_type": "code",
   "execution_count": 124,
   "metadata": {},
   "outputs": [],
   "source": [
    "# v1 = np.array([1,2])\n",
    "# v2 = np.array([3,5])\n",
    "\n",
    "# distance(v1,v2)"
   ]
  },
  {
   "cell_type": "markdown",
   "metadata": {},
   "source": [
    "### Step 2: Assign each point to their nearest Cluster Center"
   ]
  },
  {
   "cell_type": "code",
   "execution_count": 179,
   "metadata": {},
   "outputs": [],
   "source": [
    "def assignPoints(clusters): # E-step\n",
    "    for ix in range(X.shape[0]):\n",
    "        dist = []\n",
    "        curr_X = X[ix]\n",
    "\n",
    "        for kx in range(k):\n",
    "            d = (distance(curr_X,clusters[kx]['center']))\n",
    "            dist.append(d)\n",
    "\n",
    "        current_cluster = np.argmin(dist)\n",
    "        clusters[current_cluster]['points'].append(curr_X)\n",
    "\n",
    "\n",
    "def update_cluster(clusters): # M-step  --> Here we will update centers according to the mean of all the points\n",
    "    \n",
    "    for kx in range(k):\n",
    "        pts = np.array(clusters[kx]['points'])\n",
    "#         print(pts.shape)\n",
    "        if pts.shape[0] > 0:\n",
    "            new_center = pts.mean(axis=0)\n",
    "            clusters[kx]['center'] = new_center\n",
    "            clusters[kx]['points'] = [] # here we empty the points list so that we can repeat E-step\n",
    "\n",
    "\n",
    "def plot_clusters(clusters):\n",
    "    \n",
    "    for kx in range(k):\n",
    "        pts = np.array(clusters[kx]['points'])\n",
    "#         print(len(pts))\n",
    "        \n",
    "#         print points\n",
    "        try:\n",
    "            plt.scatter(pts[:,0],pts[:,1],color=clusters[kx]['color'])\n",
    "        except:\n",
    "            pass\n",
    "        \n",
    "#       print centers of clusters\n",
    "        uk = clusters[kx]['center']\n",
    "        plt.scatter(uk[0],uk[1],color='black',marker='*')"
   ]
  },
  {
   "cell_type": "code",
   "execution_count": 176,
   "metadata": {},
   "outputs": [],
   "source": [
    "initializeCenters()"
   ]
  },
  {
   "cell_type": "code",
   "execution_count": 174,
   "metadata": {},
   "outputs": [
    {
     "data": {
      "image/png": "[encoded data removed]",
      "text/plain": [
       "<Figure size 432x288 with 1 Axes>"
      ]
     },
     "metadata": {
      "needs_background": "light"
     },
     "output_type": "display_data"
    }
   ],
   "source": [
    "itr = 10\n",
    "for i in range(itr):\n",
    "    assignPoints(clusters)\n",
    "    plot_clusters(clusters)\n",
    "    update_cluster(clusters)"
   ]
  },
  {
   "cell_type": "markdown",
   "metadata": {},
   "source": [
    "## Kmeans Failure"
   ]
  },
  {
   "cell_type": "code",
   "execution_count": 180,
   "metadata": {},
   "outputs": [],
   "source": [
    "initializeCenters()"
   ]
  },
  {
   "cell_type": "code",
   "execution_count": 184,
   "metadata": {},
   "outputs": [
    {
     "data": {
      "image/png": "[encoded data removed]",
      "text/plain": [
       "<Figure size 432x288 with 1 Axes>"
      ]
     },
     "metadata": {
      "needs_background": "light"
     },
     "output_type": "display_data"
    }
   ],
   "source": [
    "itr = 10\n",
    "for i in range(itr):\n",
    "    assignPoints(clusters)\n",
    "    plot_clusters(clusters)\n",
    "    update_cluster(clusters)"
   ]
  },
  {
   "cell_type": "markdown",
   "metadata": {},
   "source": [
    "- This failure happens because of initializing the centroids randomly. Thats why we use KMeans++."
   ]
  },
  {
   "cell_type": "code",
   "execution_count": null,
   "metadata": {},
   "outputs": [],
   "source": []
  }
 ],
 "metadata": {
  "kernelspec": {
   "display_name": "Python 3",
   "language": "python",
   "name": "python3"
  },
  "language_info": {
   "codemirror_mode": {
    "name": "ipython",
    "version": 3
   },
   "file_extension": ".py",
   "mimetype": "text/x-python",
   "name": "python",
   "nbconvert_exporter": "python",
   "pygments_lexer": "ipython3",
   "version": "3.7.3"
  }
 },
 "nbformat": 4,
 "nbformat_minor": 2
}
